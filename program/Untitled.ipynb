{
 "cells": [
  {
   "cell_type": "code",
   "execution_count": 6,
   "metadata": {},
   "outputs": [
    {
     "name": "stdout",
     "output_type": "stream",
     "text": [
      "/root/financial_graph/program\n"
     ]
    }
   ],
   "source": [
    "import os\n",
    "dir = os.path.dirname(os.path.realpath('neo4j_input.py'))\n",
    "print(dir)"
   ]
  },
  {
   "cell_type": "code",
   "execution_count": 7,
   "metadata": {},
   "outputs": [
    {
     "data": {
      "text/plain": [
       "'/root/financial_graph/output'"
      ]
     },
     "execution_count": 7,
     "metadata": {},
     "output_type": "execute_result"
    }
   ],
   "source": [
    "filepath = os.path.join(os.path.dirname(dir), 'output')"
   ]
  },
  {
   "cell_type": "code",
   "execution_count": 8,
   "metadata": {},
   "outputs": [
    {
     "data": {
      "text/plain": [
       "'/root/financial_graph'"
      ]
     },
     "execution_count": 8,
     "metadata": {},
     "output_type": "execute_result"
    }
   ],
   "source": [
    "os.path.dirname(dir)"
   ]
  },
  {
   "cell_type": "code",
   "execution_count": 10,
   "metadata": {},
   "outputs": [
    {
     "data": {
      "text/plain": [
       "['/root/financial_graph/program',\n",
       " '/root/anaconda3/lib/python38.zip',\n",
       " '/root/anaconda3/lib/python3.8',\n",
       " '/root/anaconda3/lib/python3.8/lib-dynload',\n",
       " '',\n",
       " '/root/anaconda3/lib/python3.8/site-packages',\n",
       " '/root/anaconda3/lib/python3.8/site-packages/IPython/extensions',\n",
       " '/root/.ipython']"
      ]
     },
     "execution_count": 10,
     "metadata": {},
     "output_type": "execute_result"
    }
   ],
   "source": [
    "import sys\n",
    "sys.path"
   ]
  },
  {
   "cell_type": "code",
   "execution_count": 16,
   "metadata": {},
   "outputs": [
    {
     "data": {
      "text/plain": [
       "'/root/financial_graph/output/data_neo4j/company'"
      ]
     },
     "execution_count": 16,
     "metadata": {},
     "output_type": "execute_result"
    }
   ],
   "source": [
    "filename = 'company'\n",
    "dirpath = os.path.join(os.path.dirname(dir), 'output/data_neo4j', filename)\n",
    "dirpath"
   ]
  },
  {
   "cell_type": "code",
   "execution_count": 15,
   "metadata": {},
   "outputs": [
    {
     "data": {
      "text/plain": [
       "['.part-00000-3d512171-a4ab-4ea7-80cf-6f8574b6205c-c000.csv.crc',\n",
       " '_SUCCESS',\n",
       " '._SUCCESS.crc',\n",
       " 'part-00000-3d512171-a4ab-4ea7-80cf-6f8574b6205c-c000.csv']"
      ]
     },
     "execution_count": 15,
     "metadata": {},
     "output_type": "execute_result"
    }
   ],
   "source": [
    "os.listdir(dirpath)"
   ]
  },
  {
   "cell_type": "code",
   "execution_count": 18,
   "metadata": {},
   "outputs": [
    {
     "data": {
      "text/plain": [
       "<module 'sys' (built-in)>"
      ]
     },
     "execution_count": 18,
     "metadata": {},
     "output_type": "execute_result"
    }
   ],
   "source": [
    "import os\n",
    "import importlib,sys\n",
    "\n",
    "dir = os.path.dirname(os.path.realpath('neo4j_input.py'))\n",
    "# 将当前路径添加为导报路径列表中\n",
    "sys.path.append(os.path.dirname(dir))\n",
    "importlib.reload(sys)"
   ]
  },
  {
   "cell_type": "code",
   "execution_count": 21,
   "metadata": {},
   "outputs": [],
   "source": [
    "def getpath(filename):\n",
    "\tdirpath = os.path.join(os.path.dirname(dir), 'output/data_neo4j', filename)\n",
    "\tfor x in os.listdir(dirpath):\n",
    "\t\tif x[-4:] == '.csv':\n",
    "\t\t\treturn os.path.join(dirpath, x)"
   ]
  },
  {
   "cell_type": "code",
   "execution_count": 23,
   "metadata": {},
   "outputs": [
    {
     "data": {
      "text/plain": [
       "'/root/financial_graph/output/data_neo4j/company/part-00000-3d512171-a4ab-4ea7-80cf-6f8574b6205c-c000.csv'"
      ]
     },
     "execution_count": 23,
     "metadata": {},
     "output_type": "execute_result"
    }
   ],
   "source": [
    "getpath('company')"
   ]
  },
  {
   "cell_type": "code",
   "execution_count": 24,
   "metadata": {},
   "outputs": [],
   "source": [
    "FILEPATH = getpath('company')"
   ]
  },
  {
   "cell_type": "code",
   "execution_count": 25,
   "metadata": {},
   "outputs": [
    {
     "ename": "NameError",
     "evalue": "name 'pd' is not defined",
     "output_type": "error",
     "traceback": [
      "\u001b[0;31m---------------------------------------------------------------------------\u001b[0m",
      "\u001b[0;31mNameError\u001b[0m                                 Traceback (most recent call last)",
      "\u001b[0;32m<ipython-input-25-81473cb5b387>\u001b[0m in \u001b[0;36m<module>\u001b[0;34m\u001b[0m\n\u001b[0;32m----> 1\u001b[0;31m \u001b[0mdf\u001b[0m \u001b[0;34m=\u001b[0m \u001b[0mpd\u001b[0m\u001b[0;34m.\u001b[0m\u001b[0mread_csv\u001b[0m\u001b[0;34m(\u001b[0m\u001b[0mFILEPATH\u001b[0m\u001b[0;34m,\u001b[0m \u001b[0msep\u001b[0m\u001b[0;34m=\u001b[0m\u001b[0;34m'\\t'\u001b[0m\u001b[0;34m)\u001b[0m\u001b[0;34m\u001b[0m\u001b[0;34m\u001b[0m\u001b[0m\n\u001b[0m",
      "\u001b[0;31mNameError\u001b[0m: name 'pd' is not defined"
     ]
    }
   ],
   "source": []
  },
  {
   "cell_type": "code",
   "execution_count": 27,
   "metadata": {},
   "outputs": [],
   "source": [
    "import pandas as pd\n",
    "df = pd.read_csv(FILEPATH, sep='\\t')"
   ]
  },
  {
   "cell_type": "code",
   "execution_count": 30,
   "metadata": {},
   "outputs": [
    {
     "data": {
      "text/plain": [
       "['uid',\n",
       " 'name',\n",
       " 'isipo',\n",
       " 'code',\n",
       " 'exchange',\n",
       " 'type',\n",
       " 'opendate',\n",
       " 'scope',\n",
       " 'regcapamount',\n",
       " 'regcapcurrency',\n",
       " 'enterprisestatus',\n",
       " 'province',\n",
       " 'city',\n",
       " 'regaddress',\n",
       " 'oaaddress']"
      ]
     },
     "execution_count": 30,
     "metadata": {},
     "output_type": "execute_result"
    }
   ],
   "source": [
    "df.columns.values.tolist()"
   ]
  },
  {
   "cell_type": "code",
   "execution_count": 31,
   "metadata": {},
   "outputs": [
    {
     "data": {
      "text/plain": [
       "['uid: line.uid',\n",
       " 'name: line.name',\n",
       " 'isipo: line.isipo',\n",
       " 'code: line.code',\n",
       " 'exchange: line.exchange',\n",
       " 'type: line.type',\n",
       " 'opendate: line.opendate',\n",
       " 'scope: line.scope',\n",
       " 'regcapamount: line.regcapamount',\n",
       " 'regcapcurrency: line.regcapcurrency',\n",
       " 'enterprisestatus: line.enterprisestatus',\n",
       " 'province: line.province',\n",
       " 'city: line.city',\n",
       " 'regaddress: line.regaddress',\n",
       " 'oaaddress: line.oaaddress']"
      ]
     },
     "execution_count": 31,
     "metadata": {},
     "output_type": "execute_result"
    }
   ],
   "source": [
    "col_names = df.columns.values.tolist()\n",
    "col_names = ['{0}: line.{1}'.format(x,x) for x in col_names]\n",
    "col_names"
   ]
  },
  {
   "cell_type": "code",
   "execution_count": 33,
   "metadata": {},
   "outputs": [
    {
     "data": {
      "text/plain": [
       "'uid: line.uid, name: line.name, isipo: line.isipo, code: line.code, exchange: line.exchange, type: line.type, opendate: line.opendate, scope: line.scope, regcapamount: line.regcapamount, regcapcurrency: line.regcapcurrency, enterprisestatus: line.enterprisestatus, province: line.province, city: line.city, regaddress: line.regaddress, oaaddress: line.oaaddress'"
      ]
     },
     "execution_count": 33,
     "metadata": {},
     "output_type": "execute_result"
    }
   ],
   "source": [
    "PROPERTY = ', '.join(col_names)\n",
    "PROPERTY"
   ]
  },
  {
   "cell_type": "code",
   "execution_count": 34,
   "metadata": {},
   "outputs": [],
   "source": [
    "LABEL = 'company'"
   ]
  },
  {
   "cell_type": "code",
   "execution_count": 40,
   "metadata": {},
   "outputs": [
    {
     "name": "stdout",
     "output_type": "stream",
     "text": [
      "\n",
      "CREATE INDEX ON :company(uid);\n",
      "LOAD CSV WITH HEADERS FROM\n",
      "'file:///root/financial_graph/output/data_neo4j/company/part-00000-3d512171-a4ab-4ea7-80cf-6f8574b6205c-c000.csv' AS line\n",
      "FIELDTERMINATOR '\\t'\n",
      "CREATE (:company {uid: line.uid, name: line.name, isipo: line.isipo, code: line.code, exchange: line.exchange, type: line.type, opendate: line.opendate, scope: line.scope, regcapamount: line.regcapamount, regcapcurrency: line.regcapcurrency, enterprisestatus: line.enterprisestatus, province: line.province, city: line.city, regaddress: line.regaddress, oaaddress: line.oaaddress});\n",
      "\n"
     ]
    }
   ],
   "source": [
    "cql = '''\n",
    "CREATE INDEX ON :{LABEL}(uid);\n",
    "LOAD CSV WITH HEADERS FROM\n",
    "'file://{FILEPATH}' AS line\n",
    "FIELDTERMINATOR '{SEP}'\n",
    "CREATE (:{LABEL} {{{PROPERTY}}});\n",
    "'''.format(LABEL=LABEL,\n",
    "\t\tFILEPATH=FILEPATH,\n",
    "\t\t\t   SEP=r'\\t',\n",
    "\t\t\t   PROPERTY=PROPERTY)\n",
    "print(cql)"
   ]
  },
  {
   "cell_type": "code",
   "execution_count": 37,
   "metadata": {},
   "outputs": [
    {
     "name": "stdout",
     "output_type": "stream",
     "text": [
      "\n",
      "\t\tCREATE INDEX ON :company(uid);\n",
      "\t\tLOAD CSV WITH HEADERS FROM\n",
      "\t\t'file:///root/financial_graph/output/data_neo4j/company/part-00000-3d512171-a4ab-4ea7-80cf-6f8574b6205c-c000.csv' AS line\n",
      "\t\tFIELDTERMINATOR '\t'\n",
      "\t\tCREATE (:company {PROPERTY});\n",
      "\t\n"
     ]
    }
   ],
   "source": [
    "print(cql)"
   ]
  },
  {
   "cell_type": "code",
   "execution_count": 41,
   "metadata": {},
   "outputs": [
    {
     "ename": "ModuleNotFoundError",
     "evalue": "No module named 'neo4j'",
     "output_type": "error",
     "traceback": [
      "\u001b[0;31m---------------------------------------------------------------------------\u001b[0m",
      "\u001b[0;31mModuleNotFoundError\u001b[0m                       Traceback (most recent call last)",
      "\u001b[0;32m<ipython-input-41-4a08d3034cad>\u001b[0m in \u001b[0;36m<module>\u001b[0;34m\u001b[0m\n\u001b[0;32m----> 1\u001b[0;31m \u001b[0;32mimport\u001b[0m \u001b[0mneo4j\u001b[0m\u001b[0;34m.\u001b[0m\u001b[0mv1\u001b[0m\u001b[0;34m\u001b[0m\u001b[0;34m\u001b[0m\u001b[0m\n\u001b[0m",
      "\u001b[0;31mModuleNotFoundError\u001b[0m: No module named 'neo4j'"
     ]
    }
   ],
   "source": [
    "import neo4j.v1"
   ]
  },
  {
   "cell_type": "code",
   "execution_count": 43,
   "metadata": {},
   "outputs": [],
   "source": [
    "from neo4j import GraphDatabase"
   ]
  },
  {
   "cell_type": "code",
   "execution_count": 47,
   "metadata": {},
   "outputs": [],
   "source": [
    "HOST = '127.0.0.1'\n",
    "PORT = 7687\n",
    "USER = 'neo4j'\n",
    "PASSWORD = 'neo4jforbigdata'\n",
    "graph_db = GraphDatabase.driver('neo4j://%s:%s' % (HOST, PORT), auth = (USER, PASSWORD))"
   ]
  },
  {
   "cell_type": "code",
   "execution_count": 45,
   "metadata": {},
   "outputs": [
    {
     "data": {
      "text/plain": [
       "'neo4j://192.168.248.130:7687'"
      ]
     },
     "execution_count": 45,
     "metadata": {},
     "output_type": "execute_result"
    }
   ],
   "source": [
    "'neo4j://%s:%s' % (HOST, PORT)"
   ]
  },
  {
   "cell_type": "code",
   "execution_count": 48,
   "metadata": {},
   "outputs": [
    {
     "ename": "AttributeError",
     "evalue": "'Neo4jDriver' object has no attribute 'execute'",
     "output_type": "error",
     "traceback": [
      "\u001b[0;31m---------------------------------------------------------------------------\u001b[0m",
      "\u001b[0;31mAttributeError\u001b[0m                            Traceback (most recent call last)",
      "\u001b[0;32m<ipython-input-48-09c9f3078301>\u001b[0m in \u001b[0;36m<module>\u001b[0;34m\u001b[0m\n\u001b[0;32m----> 1\u001b[0;31m \u001b[0mgraph_db\u001b[0m\u001b[0;34m.\u001b[0m\u001b[0mexecute\u001b[0m\u001b[0;34m(\u001b[0m\u001b[0;34m'match (a:company) limit 10 return a'\u001b[0m\u001b[0;34m)\u001b[0m\u001b[0;34m\u001b[0m\u001b[0;34m\u001b[0m\u001b[0m\n\u001b[0m",
      "\u001b[0;31mAttributeError\u001b[0m: 'Neo4jDriver' object has no attribute 'execute'"
     ]
    }
   ],
   "source": [
    "graph_db.execute('match (a:company) limit 10 return a')"
   ]
  },
  {
   "cell_type": "code",
   "execution_count": 49,
   "metadata": {},
   "outputs": [
    {
     "data": {
      "text/plain": [
       "\"\\nCREATE INDEX ON :company(uid);\\nLOAD CSV WITH HEADERS FROM\\n'file:///root/financial_graph/output/data_neo4j/company/part-00000-3d512171-a4ab-4ea7-80cf-6f8574b6205c-c000.csv' AS line\\nFIELDTERMINATOR '\\\\t'\\nCREATE (:company {uid: line.uid, name: line.name, isipo: line.isipo, code: line.code, exchange: line.exchange, type: line.type, opendate: line.opendate, scope: line.scope, regcapamount: line.regcapamount, regcapcurrency: line.regcapcurrency, enterprisestatus: line.enterprisestatus, province: line.province, city: line.city, regaddress: line.regaddress, oaaddress: line.oaaddress});\\n\""
      ]
     },
     "execution_count": 49,
     "metadata": {},
     "output_type": "execute_result"
    }
   ],
   "source": [
    "cql"
   ]
  },
  {
   "cell_type": "code",
   "execution_count": 112,
   "metadata": {},
   "outputs": [],
   "source": [
    "def graph_execute(cql, parameters):\n",
    "    result = []\n",
    "    with graph_db.session() as session:\n",
    "        for x in session.run(cql, parameters):\n",
    "            result.append(x)\n",
    "    return result"
   ]
  },
  {
   "cell_type": "code",
   "execution_count": 113,
   "metadata": {},
   "outputs": [
    {
     "data": {
      "text/plain": [
       "[<Record a=None>,\n",
       " <Record a='攀钢集团钒钛资源股份有限公司'>,\n",
       " <Record a='Cook Ireland Ltd.'>,\n",
       " <Record a='合肥禾盛新型材料有限公司'>,\n",
       " <Record a='新疆麦趣尔集团有限责任公司'>,\n",
       " <Record a='宏昌电子材料股份有限公司'>,\n",
       " <Record a='华润深国投信托有限公司-华润信托·华颖1号单一资金信托'>,\n",
       " <Record a='西藏自治区广播电视局'>,\n",
       " <Record a='电信科学技术研究院有限公司'>,\n",
       " <Record a='中航信托股份有限公司-中航信托·天顺【2018】220号中联单一资金信托'>]"
      ]
     },
     "execution_count": 113,
     "metadata": {},
     "output_type": "execute_result"
    }
   ],
   "source": [
    "graph_execute('match (a:company) with a limit 10 return a.name as a',{})"
   ]
  },
  {
   "cell_type": "code",
   "execution_count": 97,
   "metadata": {},
   "outputs": [],
   "source": [
    "a = graph_execute('match (a:company) with a limit 10 return a.name as a',{})\n",
    "for x in a:\n",
    "    print(x)"
   ]
  },
  {
   "cell_type": "code",
   "execution_count": 107,
   "metadata": {},
   "outputs": [
    {
     "name": "stdout",
     "output_type": "stream",
     "text": [
      "None 123456789\n",
      "攀钢集团钒钛资源股份有限公司 00ef441dbfa8a349e33a2a9290898300\n",
      "Cook Ireland Ltd. 010576792353f451aac41c941cd25e2d\n",
      "合肥禾盛新型材料有限公司 01062dfab0ff38104b6dd87647f0d828\n",
      "新疆麦趣尔集团有限责任公司 01f8fbd9475226008025de01e20cdc29\n",
      "宏昌电子材料股份有限公司 02b8dbc134d6ea5b2e2b1f9f5af9b529\n",
      "华润深国投信托有限公司-华润信托·华颖1号单一资金信托 03eac9e5d0af6858051fb0111bfa1540\n",
      "西藏自治区广播电视局 04ee01f3150e6e5fa2ea12fdddb4e2c5\n",
      "电信科学技术研究院有限公司 051956b565ee47a3d26d1feb28294d1b\n",
      "中航信托股份有限公司-中航信托·天顺【2018】220号中联单一资金信托 06c571a15e1b8091a274283258d729f6\n"
     ]
    }
   ],
   "source": [
    "def print_friends(tx, name):\n",
    "    result = []\n",
    "    for x in tx.run(\"match (a:company) with a limit 10 return a.name as name, a.uid as uid\", {}):\n",
    "        result.append(x)\n",
    "    return result\n",
    "with graph_db.session() as session:\n",
    "    result = session.read_transaction(print_friends, \"Arthur\")\n",
    "result\n",
    "for x in result:\n",
    "    print(x['name'], x['uid'])"
   ]
  },
  {
   "cell_type": "code",
   "execution_count": 99,
   "metadata": {},
   "outputs": [],
   "source": [
    "with graph_db.session() as session:\n",
    "    session.read_transaction(print_friends, \"Arthur\")"
   ]
  },
  {
   "cell_type": "code",
   "execution_count": 114,
   "metadata": {},
   "outputs": [
    {
     "ename": "SyntaxError",
     "evalue": "invalid syntax (<ipython-input-114-5644099a3016>, line 2)",
     "output_type": "error",
     "traceback": [
      "\u001b[0;36m  File \u001b[0;32m\"<ipython-input-114-5644099a3016>\"\u001b[0;36m, line \u001b[0;32m2\u001b[0m\n\u001b[0;31m    for x in tx.run(\"match (a:company) with a limit 1 return a.name as name\", {})\u001b[0m\n\u001b[0m                                                                                 ^\u001b[0m\n\u001b[0;31mSyntaxError\u001b[0m\u001b[0;31m:\u001b[0m invalid syntax\n"
     ]
    }
   ],
   "source": [
    "def print_friend(tx, name):\n",
    "    for x in tx.run(\"match (a:company) with a limit 1 return a.name as name\", {})"
   ]
  },
  {
   "cell_type": "code",
   "execution_count": 128,
   "metadata": {},
   "outputs": [],
   "source": [
    "label = 'industry'\n",
    "LABEL = label\n",
    "FILEPATH = getpath(label)\n",
    "# 根据csv表头获取所有的属性值\n",
    "df = pd.read_csv(FILEPATH, sep='\\t')\n",
    "col_names = df.columns.values.tolist()\n",
    "col_names = ['{0}: line.{1}'.format(x,x) for x in col_names]\n",
    "PROPERTY = ', '.join(col_names)\n",
    "cql = '''\n",
    "LOAD CSV WITH HEADERS FROM\n",
    "'file://{FILEPATH}' AS line\n",
    "FIELDTERMINATOR '{SEP}'\n",
    "CREATE (:{LABEL} {{{PROPERTY}}});\n",
    "'''.format(LABEL=LABEL,\n",
    "           FILEPATH=FILEPATH,\n",
    "           SEP=r'\\t',\n",
    "           PROPERTY=PROPERTY)"
   ]
  },
  {
   "cell_type": "code",
   "execution_count": 129,
   "metadata": {},
   "outputs": [
    {
     "name": "stdout",
     "output_type": "stream",
     "text": [
      "\n",
      "CREATE INDEX ON :industry(uid);\n",
      "LOAD CSV WITH HEADERS FROM\n",
      "'file:///root/financial_graph/output/data_neo4j/industry/part-00000-5c8b1427-4087-4af6-9c31-6c58721d5fce-c000.csv' AS line\n",
      "FIELDTERMINATOR '\\t'\n",
      "CREATE (:industry {uid: line.uid, name: line.name, code: line.code, upper_name: line.upper_name, upper_code: line.upper_code});\n",
      "\n"
     ]
    }
   ],
   "source": [
    "FILEPATH\n",
    "print(cql)"
   ]
  },
  {
   "cell_type": "code",
   "execution_count": 134,
   "metadata": {},
   "outputs": [
    {
     "name": "stdout",
     "output_type": "stream",
     "text": [
      "{code: Neo.ClientError.Statement.SyntaxError} {message: Expected exactly one statement per query but got: 2 (line 1, column 0 (offset: 1))\n",
      "\"CREATE INDEX ON :industry(uid);\"\n",
      " ^}\n"
     ]
    }
   ],
   "source": [
    "try:\n",
    "    graph_execute(cql_create,{})\n",
    "    graph_execute(cql,{})\n",
    "except Exception as e:\n",
    "    print(e)"
   ]
  },
  {
   "cell_type": "code",
   "execution_count": 131,
   "metadata": {},
   "outputs": [],
   "source": [
    "cql_create = 'CREATE INDEX ON :{LABEL}(uid)'.format(LABEL=LABEL)"
   ]
  },
  {
   "cell_type": "code",
   "execution_count": 133,
   "metadata": {},
   "outputs": [
    {
     "data": {
      "text/plain": [
       "[]"
      ]
     },
     "execution_count": 133,
     "metadata": {},
     "output_type": "execute_result"
    }
   ],
   "source": [
    "graph_execute('match (a:industry) delete a',{})"
   ]
  },
  {
   "cell_type": "code",
   "execution_count": 136,
   "metadata": {},
   "outputs": [],
   "source": [
    "def graph_test(cql, parameters):\n",
    "    with graph_db.session() as session:\n",
    "        result = session.run(cql, parameters)\n",
    "    return result"
   ]
  },
  {
   "cell_type": "code",
   "execution_count": 146,
   "metadata": {},
   "outputs": [],
   "source": [
    "result = graph_test('match (a:company) with a limit 10 return a.name as a',{})"
   ]
  },
  {
   "cell_type": "code",
   "execution_count": 152,
   "metadata": {},
   "outputs": [
    {
     "ename": "TypeError",
     "evalue": "keys() takes 1 positional argument but 2 were given",
     "output_type": "error",
     "traceback": [
      "\u001b[0;31m---------------------------------------------------------------------------\u001b[0m",
      "\u001b[0;31mTypeError\u001b[0m                                 Traceback (most recent call last)",
      "\u001b[0;32m<ipython-input-152-de76d6900966>\u001b[0m in \u001b[0;36m<module>\u001b[0;34m\u001b[0m\n\u001b[0;32m----> 1\u001b[0;31m \u001b[0mresult\u001b[0m\u001b[0;34m.\u001b[0m\u001b[0mkeys\u001b[0m\u001b[0;34m(\u001b[0m\u001b[0;34m[\u001b[0m\u001b[0;34m'a'\u001b[0m\u001b[0;34m]\u001b[0m\u001b[0;34m)\u001b[0m\u001b[0;34m\u001b[0m\u001b[0;34m\u001b[0m\u001b[0m\n\u001b[0m",
      "\u001b[0;31mTypeError\u001b[0m: keys() takes 1 positional argument but 2 were given"
     ]
    }
   ],
   "source": [
    "result.keys(['a'])"
   ]
  },
  {
   "cell_type": "code",
   "execution_count": 153,
   "metadata": {},
   "outputs": [
    {
     "name": "stdout",
     "output_type": "stream",
     "text": [
      "图谱清空成功\n"
     ]
    }
   ],
   "source": [
    "try:\n",
    "    graph_execute('match (n) detach delete n',{})\n",
    "    print('图谱清空成功')\n",
    "except Exception as e:\n",
    "    print(e)"
   ]
  },
  {
   "cell_type": "code",
   "execution_count": 158,
   "metadata": {},
   "outputs": [],
   "source": [
    "def graph_execute(cql, parameters):\n",
    "\t'''\n",
    "\tcql执行函数\n",
    "\t输入cql语句，返回查询结果\n",
    "\t'''\n",
    "\tresult = []\n",
    "\twith graph_db.session() as session:\n",
    "\t\ttry:\n",
    "\t\t\tfor x in session.run(cql, parameters):\n",
    "\t\t\t\tresult.append(x)\n",
    "\t\texcept Exception as e:\n",
    "\t\t\tprint('{}\\t执行失败'.format(cql))\n",
    "\t\t\tprint(e)\n",
    "\treturn result"
   ]
  },
  {
   "cell_type": "code",
   "execution_count": 159,
   "metadata": {},
   "outputs": [
    {
     "name": "stdout",
     "output_type": "stream",
     "text": [
      "match (n) delete n执行失败\n",
      "{code: Neo.TransientError.General.OutOfMemoryError} {message: There is not enough memory to perform the current task. Please try increasing 'dbms.memory.heap.max_size' in the neo4j configuration (normally in 'conf/neo4j.conf' or, if you are using Neo4j Desktop, found through the user interface) or if you are running an embedded installation increase the heap by using '-Xmx' command line flag, and then restart the database.}\n"
     ]
    },
    {
     "data": {
      "text/plain": [
       "[]"
      ]
     },
     "execution_count": 159,
     "metadata": {},
     "output_type": "execute_result"
    }
   ],
   "source": [
    "graph_execute('match (n) delete n',{})"
   ]
  },
  {
   "cell_type": "code",
   "execution_count": 160,
   "metadata": {},
   "outputs": [
    {
     "data": {
      "text/plain": [
       "[<Record a='攀钢集团钒钛资源股份有限公司'>,\n",
       " <Record a='Cook Ireland Ltd.'>,\n",
       " <Record a='合肥禾盛新型材料有限公司'>,\n",
       " <Record a='新疆麦趣尔集团有限责任公司'>,\n",
       " <Record a='宏昌电子材料股份有限公司'>,\n",
       " <Record a='华润深国投信托有限公司-华润信托·华颖1号单一资金信托'>,\n",
       " <Record a='西藏自治区广播电视局'>,\n",
       " <Record a='电信科学技术研究院有限公司'>,\n",
       " <Record a='中航信托股份有限公司-中航信托·天顺【2018】220号中联单一资金信托'>,\n",
       " <Record a='广东迪生力汽配股份有限公司'>]"
      ]
     },
     "execution_count": 160,
     "metadata": {},
     "output_type": "execute_result"
    }
   ],
   "source": [
    "graph_execute('match (a:company) with a limit 10 return a.name as a',{})"
   ]
  },
  {
   "cell_type": "code",
   "execution_count": null,
   "metadata": {},
   "outputs": [],
   "source": []
  }
 ],
 "metadata": {
  "kernelspec": {
   "display_name": "Python 3",
   "language": "python",
   "name": "python3"
  },
  "language_info": {
   "codemirror_mode": {
    "name": "ipython",
    "version": 3
   },
   "file_extension": ".py",
   "mimetype": "text/x-python",
   "name": "python",
   "nbconvert_exporter": "python",
   "pygments_lexer": "ipython3",
   "version": "3.8.3"
  }
 },
 "nbformat": 4,
 "nbformat_minor": 4
}
